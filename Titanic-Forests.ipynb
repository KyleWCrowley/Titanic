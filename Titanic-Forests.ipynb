{
 "metadata": {
  "name": ""
 },
 "nbformat": 3,
 "nbformat_minor": 0,
 "worksheets": [
  {
   "cells": [
    {
     "cell_type": "code",
     "collapsed": false,
     "input": [
      "#import libraries\n",
      "import numpy as np\n",
      "import csv\n",
      "from sklearn.ensemble import RandomForestClassifier"
     ],
     "language": "python",
     "metadata": {},
     "outputs": [],
     "prompt_number": 59
    },
    {
     "cell_type": "code",
     "collapsed": false,
     "input": [
      "#import the data file\n",
      "csv_file_object = csv.reader(open('train.csv', 'rb')) \n",
      "header = csv_file_object.next()\n",
      "train_data=[]\n",
      "\n",
      "for row in csv_file_object:\n",
      "    train_data.append(row[1:])\n",
      "train_data = np.array(train_data)\n",
      "print train_data"
     ],
     "language": "python",
     "metadata": {},
     "outputs": [
      {
       "output_type": "stream",
       "stream": "stdout",
       "text": [
        "[['0' '3' 'Braund, Mr. Owen Harris' ..., '7.25' '' 'S']\n",
        " ['1' '1' 'Cumings, Mrs. John Bradley (Florence Briggs Thayer)' ...,\n",
        "  '71.2833' 'C85' 'C']\n",
        " ['1' '3' 'Heikkinen, Miss. Laina' ..., '7.925' '' 'S']\n",
        " ..., \n",
        " ['0' '3' 'Johnston, Miss. Catherine Helen \"Carrie\"' ..., '23.45' '' 'S']\n",
        " ['1' '1' 'Behr, Mr. Karl Howell' ..., '30' 'C148' 'C']\n",
        " ['0' '3' 'Dooley, Mr. Patrick' ..., '7.75' '' 'Q']]\n"
       ]
      }
     ],
     "prompt_number": 60
    },
    {
     "cell_type": "code",
     "collapsed": false,
     "input": [
      "#convert file to usable format\n",
      "#Female = 0, Male = 1\n",
      "train_data[train_data[0::,3] == 'female',3] = 0\n",
      "train_data[train_data[0::,3] == 'male',3] = 1\n",
      "\n",
      "#embark c=0, s=1, q=2\n",
      "train_data[train_data[0::,10] == 'C',10] = 0\n",
      "train_data[train_data[0::,10] == 'S',10] = 1\n",
      "train_data[train_data[0::,10] == 'Q',10] = 2"
     ],
     "language": "python",
     "metadata": {},
     "outputs": [],
     "prompt_number": 61
    },
    {
     "cell_type": "code",
     "collapsed": false,
     "input": [
      "#fill in gaps caused by imcomplete data\n",
      "\n",
      "#make all missing ages median of the age data\n",
      "train_data[train_data[0::,4] == '',4] = np.median(train_data[train_data[0::,4]\\\n",
      "                                                             != '',4].astype(np.float))\n",
      "\n",
      "#make all missing embarkments the most common embarkment location\n",
      "train_data[train_data[0::,10] == '',10] = np.round(np.mean(train_data[train_data[0::,10]\\\n",
      "                                                             != '',10].astype(np.float)))\n",
      "\n",
      "#now delete all irrelevent data (i.e names, cabin, and ticket fields)\n",
      "train_data = np.delete(train_data,[2,7,9],1)"
     ],
     "language": "python",
     "metadata": {},
     "outputs": [],
     "prompt_number": 62
    },
    {
     "cell_type": "code",
     "collapsed": false,
     "input": [
      "#read in test data file\n",
      "test_file_object = csv.reader(open('test.csv', 'rb'))\n",
      "header = test_file_object.next()\n",
      "test_data = []\n",
      "ids = []\n",
      "\n",
      "for row in test_file_object:\n",
      "        ids.append(row[0])\n",
      "        test_data.append(row[1:])\n",
      "test_data = np.array(test_data)"
     ],
     "language": "python",
     "metadata": {},
     "outputs": [],
     "prompt_number": 63
    },
    {
     "cell_type": "code",
     "collapsed": false,
     "input": [
      "#Convert file to usable format\n",
      "test_data[test_data[0::,2] == 'male',2] = 1\n",
      "test_data[test_data[0::,2] == 'female',2] = 0\n",
      "\n",
      "test_data[test_data[0::,9] == 'C',9] = 0\n",
      "test_data[test_data[0::,9] == 'S',9] = 1\n",
      "test_data[test_data[0::,9] == 'Q',9] = 2\n",
      "\n",
      "test_data[test_data[0::,3] == '',3] = np.median(test_data[test_data[0::,3] != '',3].astype(np.float))\n",
      "test_data[test_data[0::,9] == '',9] = np.round(np.mean(test_data[test_data[0::,9] != '',9].astype(np.float)))\n",
      "\n",
      "#replace missing prices with median of that classes prices\n",
      "for i in xrange(np.size(test_data[0::,0])):\n",
      "    if test_data[i,7] == '':\n",
      "        test_data[i,7] = np.median(test_data[(test_data[0::,7] != '') & (test_data[0::,0] == test_data[i,0]) ,7].astype(np.float))\n",
      "test_data = np.delete(test_data,[1,6,8],1)"
     ],
     "language": "python",
     "metadata": {},
     "outputs": [],
     "prompt_number": 64
    },
    {
     "cell_type": "code",
     "collapsed": false,
     "input": [
      "#Now that data is ready, train the model\n",
      "forest = RandomForestClassifier(n_estimators=100)\n",
      "\n",
      "forest = forest.fit(train_data[0::,1::],train_data[0::,0])"
     ],
     "language": "python",
     "metadata": {},
     "outputs": [],
     "prompt_number": 65
    },
    {
     "cell_type": "code",
     "collapsed": false,
     "input": [
      "#Now use trained model to predict the results of the test file\n",
      "output = forest.predict(test_data)\n",
      "\n",
      "open_file_object = csv.writer(open(\"prediction.csv\", \"wb\"))\n",
      "open_file_object.writerow([\"PassengerId\", \"Survived\"])\n",
      "open_file_object.writerows(zip(ids, output))"
     ],
     "language": "python",
     "metadata": {},
     "outputs": [],
     "prompt_number": 66
    },
    {
     "cell_type": "code",
     "collapsed": false,
     "input": [],
     "language": "python",
     "metadata": {},
     "outputs": []
    }
   ],
   "metadata": {}
  }
 ]
}