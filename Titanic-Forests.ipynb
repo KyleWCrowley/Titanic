{
 "metadata": {
  "name": ""
 },
 "nbformat": 3,
 "nbformat_minor": 0,
 "worksheets": [
  {
   "cells": [
    {
     "cell_type": "code",
     "collapsed": false,
     "input": [
      "#import libraries\n",
      "import numpy as np\n",
      "import csv\n",
      "from sklearn.ensemble import RandomForestClassifier\n",
      "from sklearn.linear_model import LogisticRegression"
     ],
     "language": "python",
     "metadata": {},
     "outputs": [],
     "prompt_number": 169
    },
    {
     "cell_type": "code",
     "collapsed": false,
     "input": [
      "#import the data file\n",
      "csv_file_object = csv.reader(open('train.csv', 'rb')) \n",
      "header = csv_file_object.next()\n",
      "train_data=[]\n",
      "\n",
      "for row in csv_file_object:\n",
      "    train_data.append(row[1:])\n",
      "train_data = np.array(train_data)"
     ],
     "language": "python",
     "metadata": {},
     "outputs": [],
     "prompt_number": 170
    },
    {
     "cell_type": "code",
     "collapsed": false,
     "input": [
      "#convert file to usable format\n",
      "#Female = 0, Male = 1\n",
      "train_data[train_data[0::,3] == 'female',3] = 0\n",
      "train_data[train_data[0::,3] == 'male',3] = 1\n",
      "\n",
      "#embark c=0, s=1, q=2\n",
      "train_data[train_data[0::,10] == 'C',10] = 0\n",
      "train_data[train_data[0::,10] == 'S',10] = 1\n",
      "train_data[train_data[0::,10] == 'Q',10] = 2"
     ],
     "language": "python",
     "metadata": {},
     "outputs": [],
     "prompt_number": 171
    },
    {
     "cell_type": "code",
     "collapsed": false,
     "input": [
      "#fill in gaps caused by imcomplete data\n",
      "\n",
      "#make all missing ages median of the age data\n",
      "train_data[train_data[0::,4] == '',4] = np.median(train_data[train_data[0::,4]\\\n",
      "                                                             != '',4].astype(np.float))\n",
      "\n",
      "#make all missing embarkments the most common embarkment location\n",
      "train_data[train_data[0::,10] == '',10] = np.round(np.mean(train_data[train_data[0::,10]\\\n",
      "                                                             != '',10].astype(np.float)))\n",
      "\n",
      "#now delete all irrelevent data (i.e names, cabin, and ticket fields)\n",
      "train_data = np.delete(train_data,[2,7,9],1)\n",
      "train_data = np.array(train_data, dtype = np.float)"
     ],
     "language": "python",
     "metadata": {},
     "outputs": [],
     "prompt_number": 172
    },
    {
     "cell_type": "code",
     "collapsed": false,
     "input": [
      "#read in test data file\n",
      "test_file_object = csv.reader(open('test.csv', 'rb'))\n",
      "header = test_file_object.next()\n",
      "test_data = []\n",
      "ids = []\n",
      "\n",
      "for row in test_file_object:\n",
      "        ids.append(row[0])\n",
      "        test_data.append(row[1:])\n",
      "test_data = np.array(test_data)"
     ],
     "language": "python",
     "metadata": {},
     "outputs": [],
     "prompt_number": 173
    },
    {
     "cell_type": "code",
     "collapsed": false,
     "input": [
      "#Convert file to usable format\n",
      "test_data[test_data[0::,2] == 'male',2] = 1\n",
      "test_data[test_data[0::,2] == 'female',2] = 0\n",
      "\n",
      "test_data[test_data[0::,9] == 'C',9] = 0\n",
      "test_data[test_data[0::,9] == 'S',9] = 1\n",
      "test_data[test_data[0::,9] == 'Q',9] = 2\n",
      "\n",
      "test_data[test_data[0::,3] == '',3] = np.median(test_data[test_data[0::,3] != '',3].astype(np.float))\n",
      "test_data[test_data[0::,9] == '',9] = np.round(np.mean(test_data[test_data[0::,9] != '',9].astype(np.float)))\n",
      "\n",
      "#replace missing prices with median of that classes prices\n",
      "for i in xrange(np.size(test_data[0::,0])):\n",
      "    if test_data[i,7] == '':\n",
      "        test_data[i,7] = np.median(test_data[(test_data[0::,7] != '') & (test_data[0::,0] == test_data[i,0]) ,7].astype(np.float))\n",
      "test_data = np.delete(test_data,[1,6,8],1)\n",
      "test_data = np.array(test_data, dtype=np.float)"
     ],
     "language": "python",
     "metadata": {},
     "outputs": [],
     "prompt_number": 174
    },
    {
     "cell_type": "code",
     "collapsed": false,
     "input": [
      "#Now that data is ready, train the model\n",
      "forest = RandomForestClassifier(n_estimators=100)\n",
      "\n",
      "forest = forest.fit(train_data[0::,1::],train_data[0::,0])"
     ],
     "language": "python",
     "metadata": {},
     "outputs": [],
     "prompt_number": 175
    },
    {
     "cell_type": "code",
     "collapsed": false,
     "input": [
      "#Now use trained model to predict the results of the test file\n",
      "output = forest.predict(test_data)\n",
      "output = np.array(output,dtype=np.int)\n",
      "\n",
      "with open(\"prediction.csv\", 'wb') as predictions:\n",
      "    open_file_object = csv.writer(predictions)\n",
      "    open_file_object.writerow([\"PassengerId\", \"Survived\"])\n",
      "    open_file_object.writerows(zip(ids, output))\n",
      "    predictions.close()"
     ],
     "language": "python",
     "metadata": {},
     "outputs": [],
     "prompt_number": 176
    },
    {
     "cell_type": "code",
     "collapsed": false,
     "input": [
      "#Linear Regression Model\n",
      "lr1_classifier = LogisticRegression(penalty = 'l1', tol=0.01,dual=False)\n",
      "lr2_classifier = LogisticRegression()\n",
      "\n",
      "#lr1_classifier.fit(train_data[0::,1::],train_data[0::,0])\n",
      "#lr2_classifier.fit(train_data[0::,1::],train_data[0::,0])\n",
      "\n",
      "blah_train_x, blah_train_y = train_data[:500, 1::], train_data[:500, 0]\n",
      "blah_test_x, blah_test_y = train_data[-200:, 1::], train_data[-200:, 0]\n",
      "\n",
      "\n",
      "lr1_classifier.fit(blah_train_x, blah_train_y)\n",
      "print lr1_classifier.score(blah_test_x, blah_test_y)\n",
      "\n",
      "lr2_classifier.fit(blah_train_x, blah_train_y)\n",
      "print lr2_classifier.score(blah_test_x, blah_test_y)\n",
      "\n"
     ],
     "language": "python",
     "metadata": {},
     "outputs": [
      {
       "output_type": "stream",
       "stream": "stdout",
       "text": [
        "0.81\n",
        "0.81\n"
       ]
      }
     ],
     "prompt_number": 177
    },
    {
     "cell_type": "code",
     "collapsed": false,
     "input": [
      "output2 = lr1_classifier.predict(test_data)\n",
      "output2 = np.array(output2,dtype=np.int)\n",
      "\n",
      "output3 = lr2_classifier.predict(test_data)\n",
      "output3 = np.array(output3,dtype=np.int)\n",
      "\n",
      "\n",
      "with open(\"LogRegPredictionsL1.csv\", 'wb') as logreg:\n",
      "    open_file_object = csv.writer(logreg)\n",
      "    open_file_object.writerow([\"PassengerId\", \"Survived\"])\n",
      "    open_file_object.writerows(zip(ids, output2))\n",
      "    logreg.close()\n",
      "    \n",
      "with open(\"LogRegPredictionsL2.csv\", 'wb') as logreg2:\n",
      "    open_file_object = csv.writer(logreg2)\n",
      "    open_file_object.writerow([\"PassengerId\", \"Survived\"])\n",
      "    open_file_object.writerows(zip(ids, output3))\n",
      "    logreg2.close()\n",
      "    \n",
      "averg = (output3 + output2 + output)/3\n",
      "with open(\"Averaged.csv\", 'wb') as avg:\n",
      "    open_file_object = csv.writer(avg)\n",
      "    open_file_object.writerow([\"PassengerId\", \"Survived\"])\n",
      "    open_file_object.writerows(zip(ids, averg))\n",
      "    avg.close()"
     ],
     "language": "python",
     "metadata": {},
     "outputs": [],
     "prompt_number": 178
    },
    {
     "cell_type": "code",
     "collapsed": false,
     "input": [],
     "language": "python",
     "metadata": {},
     "outputs": [],
     "prompt_number": 168
    },
    {
     "cell_type": "code",
     "collapsed": false,
     "input": [],
     "language": "python",
     "metadata": {},
     "outputs": [],
     "prompt_number": 168
    }
   ],
   "metadata": {}
  }
 ]
}